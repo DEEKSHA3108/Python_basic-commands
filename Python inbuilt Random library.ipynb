{
 "cells": [
  {
   "cell_type": "code",
   "execution_count": null,
   "metadata": {
    "colab": {},
    "colab_type": "code",
    "id": "LTgmGMz6ZguX"
   },
   "outputs": [],
   "source": [
    "1. Calculate the sum of the digits of a random 3-digit number."
   ]
  },
  {
   "cell_type": "code",
   "execution_count": 2,
   "metadata": {
    "colab": {},
    "colab_type": "code",
    "id": "DlP_DtFEZpFB"
   },
   "outputs": [
    {
     "name": "stdout",
     "output_type": "stream",
     "text": [
      "226\n",
      "10\n"
     ]
    }
   ],
   "source": [
    "from random import random\n",
    " \n",
    "n = random() * 900 + 100\n",
    "n = int(n)\n",
    "print(n)\n",
    " \n",
    "a = n // 100\n",
    "b = (n // 10) % 10\n",
    "c = n % 10\n",
    " \n",
    "print(a+b+c)"
   ]
  },
  {
   "cell_type": "code",
   "execution_count": null,
   "metadata": {
    "colab": {},
    "colab_type": "code",
    "id": "y3e4UvLLZpOI"
   },
   "outputs": [],
   "source": [
    "2. Find all the occurrence of the word ‘India’ in the following string ignoring the case.\n",
    "String = 'India has the world 3rd largest population, and india is among the world 5th strongest Army.'"
   ]
  },
  {
   "cell_type": "code",
   "execution_count": 1,
   "metadata": {
    "colab": {},
    "colab_type": "code",
    "id": "ljhYOt8WZ0Sg"
   },
   "outputs": [
    {
     "name": "stdout",
     "output_type": "stream",
     "text": [
      "The count is: 1\n"
     ]
    }
   ],
   "source": [
    "String = 'India has the world 3rd largest population, and india is among the world 5th strongest Army.'\n",
    "substring = 'india'\n",
    "count = String.count(substring)\n",
    "print(\"The count is:\", count)"
   ]
  },
  {
   "cell_type": "code",
   "execution_count": null,
   "metadata": {
    "colab": {},
    "colab_type": "code",
    "id": "zh5BZ0ESZ0bI"
   },
   "outputs": [],
   "source": [
    "3. Print the following using the slicing method by creating a string of all the alphabets\n",
    "• dog\n",
    "• artificial\n",
    "• technology\n",
    "• print initial of your name"
   ]
  },
  {
   "cell_type": "code",
   "execution_count": 37,
   "metadata": {
    "colab": {},
    "colab_type": "code",
    "id": "pZ_fJt1UZ2Lw"
   },
   "outputs": [
    {
     "name": "stdout",
     "output_type": "stream",
     "text": [
      "dog\n",
      "artificial\n",
      "technology\n",
      "vv\n"
     ]
    }
   ],
   "source": [
    "string = 'vvtechnologyartificialdog'\n",
    "s1=slice(22,25)\n",
    "s2=slice(12,22)\n",
    "s3=slice(2,12)\n",
    "s4=slice(2)\n",
    "print(string[s1])\n",
    "print(string[s2])\n",
    "print(string[s3])\n",
    "print(string[s4])"
   ]
  },
  {
   "cell_type": "code",
   "execution_count": null,
   "metadata": {
    "colab": {},
    "colab_type": "code",
    "id": "oqVS5cE4Z2Ty"
   },
   "outputs": [],
   "source": [
    "4. Print the following by using negative indexing by using help from the above string:\n",
    "• Print the surname of your name"
   ]
  },
  {
   "cell_type": "code",
   "execution_count": 48,
   "metadata": {
    "colab": {},
    "colab_type": "code",
    "id": "2OyQgKimZ4Ko"
   },
   "outputs": [
    {
     "name": "stdout",
     "output_type": "stream",
     "text": [
      "vv\n"
     ]
    }
   ],
   "source": [
    "string = 'vvtechnologyartificialdog'\n",
    "s1=slice(-23)\n",
    "print(string[s1])"
   ]
  },
  {
   "cell_type": "code",
   "execution_count": null,
   "metadata": {
    "colab": {},
    "colab_type": "code",
    "id": "Z8qNo_ZAZ4SY"
   },
   "outputs": [],
   "source": [
    "5. Print all the elements of the alphabets using range in slicing."
   ]
  },
  {
   "cell_type": "code",
   "execution_count": 3,
   "metadata": {
    "colab": {},
    "colab_type": "code",
    "id": "mqpK9IuqZ6VS"
   },
   "outputs": [
    {
     "name": "stdout",
     "output_type": "stream",
     "text": [
      "String slicing\n",
      "dat\n",
      "aa\n",
      "enisaa\n"
     ]
    }
   ],
   "source": [
    "# String slicing  \n",
    "String ='data science'\n",
    "  \n",
    "# Using slice constructor \n",
    "s1 = slice(3) \n",
    "s2 = slice(1, 5, 2)  \n",
    "s3 = slice(-1, -12, -2) \n",
    "  \n",
    "print(\"String slicing\")  \n",
    "print(String[s1])  \n",
    "print(String[s2])  \n",
    "print(String[s3]) "
   ]
  },
  {
   "cell_type": "code",
   "execution_count": null,
   "metadata": {
    "colab": {},
    "colab_type": "code",
    "id": "485ziFVWZ6dq"
   },
   "outputs": [],
   "source": [
    "6. If the var = ‘I am Indian’, the replace the Indian with ‘INDIAN’ using replace method."
   ]
  },
  {
   "cell_type": "code",
   "execution_count": 4,
   "metadata": {
    "colab": {},
    "colab_type": "code",
    "id": "btRd3r5gZ7_x"
   },
   "outputs": [
    {
     "name": "stdout",
     "output_type": "stream",
     "text": [
      "I am INDIAN\n"
     ]
    }
   ],
   "source": [
    "oldstring = 'I am Indian' \n",
    "newstring = oldstring.replace('Indian', 'INDIAN')\n",
    "print(newstring)"
   ]
  },
  {
   "cell_type": "code",
   "execution_count": null,
   "metadata": {
    "colab": {},
    "colab_type": "code",
    "id": "6EOMU4SyZ8GQ"
   },
   "outputs": [],
   "source": [
    "7. Calculate the length of the alphabet string you created."
   ]
  },
  {
   "cell_type": "code",
   "execution_count": 5,
   "metadata": {
    "colab": {},
    "colab_type": "code",
    "id": "KmTA61IuZ9-a"
   },
   "outputs": [
    {
     "name": "stdout",
     "output_type": "stream",
     "text": [
      "11\n"
     ]
    }
   ],
   "source": [
    "str = \"I am Indian\"\n",
    "print(len(str))"
   ]
  },
  {
   "cell_type": "code",
   "execution_count": null,
   "metadata": {
    "colab": {},
    "colab_type": "code",
    "id": "XSy-adPUZ-L5"
   },
   "outputs": [],
   "source": [
    "8. Write a python program to define the working of strip method.\n",
    "Take string = “ This is a String ”"
   ]
  },
  {
   "cell_type": "code",
   "execution_count": 13,
   "metadata": {
    "colab": {},
    "colab_type": "code",
    "id": "82mLK0Z2aAbT"
   },
   "outputs": [
    {
     "name": "stdout",
     "output_type": "stream",
     "text": [
      "This is a Stri\n",
      "This is a String\n",
      " is a String\n"
     ]
    }
   ],
   "source": [
    "txt = \"This is a String\"\n",
    "print(txt.strip('ng'))\n",
    "print(txt.strip())\n",
    "print(txt.strip('This'))"
   ]
  },
  {
   "cell_type": "code",
   "execution_count": null,
   "metadata": {
    "colab": {},
    "colab_type": "code",
    "id": "VTuYn76aaAif"
   },
   "outputs": [],
   "source": [
    "9. Strip method sometimes may be used to remove some elements from a string, with this hint write a program which gives the output ‘theax’ if the string contains ‘www.theax.in’ i.e you have\n",
    "to remove (www. and .in) by strip method."
   ]
  },
  {
   "cell_type": "code",
   "execution_count": 49,
   "metadata": {
    "colab": {},
    "colab_type": "code",
    "id": "wgQ3chq4aGAq"
   },
   "outputs": [
    {
     "name": "stdout",
     "output_type": "stream",
     "text": [
      "theax\n"
     ]
    }
   ],
   "source": [
    "text=\"www.theax.in\"\n",
    "print(text.strip(\"www.in\"))"
   ]
  },
  {
   "cell_type": "code",
   "execution_count": null,
   "metadata": {
    "colab": {},
    "colab_type": "code",
    "id": "rMoW2vIRaGNq"
   },
   "outputs": [],
   "source": [
    "10. Convert (www.theax.in) into upper case by using Upper method"
   ]
  },
  {
   "cell_type": "code",
   "execution_count": 14,
   "metadata": {
    "colab": {},
    "colab_type": "code",
    "id": "CC5LZAkoaNe8"
   },
   "outputs": [
    {
     "name": "stdout",
     "output_type": "stream",
     "text": [
      "Please Enter your Own String : www.theax.in\n",
      "\n",
      "Original String in Lowercase  =   www.theax.in\n",
      "The Given String in Uppercase =   WWW.THEAX.IN\n"
     ]
    }
   ],
   "source": [
    "string = input(\"Please Enter your Own String : \")\n",
    "\n",
    "string1 = string.upper()\n",
    " \n",
    "print(\"\\nOriginal String in Lowercase  =  \", string)\n",
    "print(\"The Given String in Uppercase =  \", string1)"
   ]
  },
  {
   "cell_type": "code",
   "execution_count": null,
   "metadata": {
    "colab": {},
    "colab_type": "code",
    "id": "kvmycT1vaNlN"
   },
   "outputs": [],
   "source": [
    "11. If my vowels = ‘a e i o u’, then split vowels as an individual string."
   ]
  },
  {
   "cell_type": "code",
   "execution_count": 16,
   "metadata": {
    "colab": {},
    "colab_type": "code",
    "id": "nit4OiTfaPv2"
   },
   "outputs": [
    {
     "name": "stdout",
     "output_type": "stream",
     "text": [
      "6\n",
      "['o', 'u', 'e', 'i', 'e', 'e']\n"
     ]
    }
   ],
   "source": [
    "def Check_Vow(string, vowels): \n",
    "    final = [each for each in string if each in vowels] \n",
    "    print(len(final)) \n",
    "    print(final) \n",
    "      \n",
    "# Driver Code \n",
    "string = \"computer science\"\n",
    "vowels = \"AaEeIiOoUu\"\n",
    "Check_Vow(string, vowels); "
   ]
  },
  {
   "cell_type": "code",
   "execution_count": null,
   "metadata": {
    "colab": {},
    "colab_type": "code",
    "id": "Lz16emtlaP2r"
   },
   "outputs": [],
   "source": [
    "12. Check whether ‘e’ is in the vowels or not by check in method and check not in method."
   ]
  },
  {
   "cell_type": "code",
   "execution_count": 22,
   "metadata": {
    "colab": {},
    "colab_type": "code",
    "id": "MhJdCdowaRNF"
   },
   "outputs": [
    {
     "name": "stdout",
     "output_type": "stream",
     "text": [
      "e is  present in given list\n",
      "e is present in given list\n"
     ]
    }
   ],
   "source": [
    "x = 'e'\n",
    "list = [\"a\",\"e\",\"i\",\"o\",\"u\"]; \n",
    "\n",
    "# not in methort\n",
    "if ( x not in list ): \n",
    "   print(\"e is NOT present in given list\") \n",
    "else: \n",
    "   print(\"e is  present in given list\")\n",
    "\n",
    "#in methord\n",
    "if ( x in list ): \n",
    "   print(\"e is present in given list\") \n",
    "else: \n",
    "   print(\"e is NOT present in given list\") "
   ]
  },
  {
   "cell_type": "code",
   "execution_count": null,
   "metadata": {
    "colab": {},
    "colab_type": "code",
    "id": "e1G-qJpkaRU4"
   },
   "outputs": [],
   "source": [
    "13. Print your name using string concatenation."
   ]
  },
  {
   "cell_type": "code",
   "execution_count": 23,
   "metadata": {
    "colab": {},
    "colab_type": "code",
    "id": "l_EA101UaS1F"
   },
   "outputs": [
    {
     "name": "stdout",
     "output_type": "stream",
     "text": [
      "vishnudinesh\n"
     ]
    }
   ],
   "source": [
    "string + string\n",
    "\n",
    "# concatenation two strings\n",
    "name = \"vishnu\" + \"dinesh\"\n",
    "print(name)"
   ]
  },
  {
   "cell_type": "code",
   "execution_count": null,
   "metadata": {
    "colab": {},
    "colab_type": "code",
    "id": "bqxBFYOEaS9l"
   },
   "outputs": [],
   "source": [
    "14. Use string format method to print AI was coined in 1956."
   ]
  },
  {
   "cell_type": "code",
   "execution_count": 24,
   "metadata": {
    "colab": {},
    "colab_type": "code",
    "id": "aCNJ4LbFaUlQ"
   },
   "outputs": [
    {
     "name": "stdout",
     "output_type": "stream",
     "text": [
      "AI was coint in 1956.\n"
     ]
    }
   ],
   "source": [
    "print('AI was coint in {}.'.format('1956'))"
   ]
  },
  {
   "cell_type": "code",
   "execution_count": null,
   "metadata": {
    "colab": {},
    "colab_type": "code",
    "id": "9liF70b6aUtO"
   },
   "outputs": [],
   "source": [
    "15. Capitalize the word ‘artificial intelligence’ by using string method."
   ]
  },
  {
   "cell_type": "code",
   "execution_count": 25,
   "metadata": {
    "colab": {},
    "colab_type": "code",
    "id": "6xIgUPDQaWoW"
   },
   "outputs": [
    {
     "name": "stdout",
     "output_type": "stream",
     "text": [
      "Please Enter your Own String : artificial intelligence\n",
      "\n",
      "Original String in Lowercase  =   artificial intelligence\n",
      "The Given String in Uppercase =   ARTIFICIAL INTELLIGENCE\n"
     ]
    }
   ],
   "source": [
    "string = input(\"Please Enter your Own String : \")\n",
    "\n",
    "string1 = string.upper()\n",
    " \n",
    "print(\"\\nOriginal String in Lowercase  =  \", string)\n",
    "print(\"The Given String in Uppercase =  \", string1)"
   ]
  },
  {
   "cell_type": "code",
   "execution_count": null,
   "metadata": {
    "colab": {},
    "colab_type": "code",
    "id": "eM7-6unfaWwB"
   },
   "outputs": [],
   "source": [
    "16. Capitalize the first terms of ‘artificial intelligence’ by string method."
   ]
  },
  {
   "cell_type": "code",
   "execution_count": 26,
   "metadata": {},
   "outputs": [
    {
     "name": "stdout",
     "output_type": "stream",
     "text": [
      "Artificial intelligence\n"
     ]
    }
   ],
   "source": [
    "a = \"artificial intelligence\" \n",
    "print(a.capitalize())"
   ]
  }
 ],
 "metadata": {
  "colab": {
   "name": "A5.ipynb",
   "provenance": []
  },
  "kernelspec": {
   "display_name": "Python 3",
   "language": "python",
   "name": "python3"
  },
  "language_info": {
   "codemirror_mode": {
    "name": "ipython",
    "version": 3
   },
   "file_extension": ".py",
   "mimetype": "text/x-python",
   "name": "python",
   "nbconvert_exporter": "python",
   "pygments_lexer": "ipython3",
   "version": "3.8.8"
  }
 },
 "nbformat": 4,
 "nbformat_minor": 1
}
