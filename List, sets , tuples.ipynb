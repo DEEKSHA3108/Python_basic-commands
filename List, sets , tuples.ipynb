{
 "cells": [
  {
   "cell_type": "code",
   "execution_count": null,
   "metadata": {
    "colab": {},
    "colab_type": "code",
    "id": "RqigcOnBUIS1"
   },
   "outputs": [],
   "source": [
    "Write a code to display the first and last colors from the following list.\n",
    "\n",
    "colors_list = [‘Red’, ‘Green’, ‘White’, ‘Black’] \n",
    "Expected output: ['Red', 'Black']"
   ]
  },
  {
   "cell_type": "code",
   "execution_count": 6,
   "metadata": {
    "colab": {},
    "colab_type": "code",
    "id": "meRAebPaUU45"
   },
   "outputs": [
    {
     "data": {
      "text/plain": [
       "'Black'"
      ]
     },
     "execution_count": 6,
     "metadata": {},
     "output_type": "execute_result"
    }
   ],
   "source": [
    "colors_list = ['Red', 'Green', 'White', 'Black'] \n",
    "colors_list[-1]"
   ]
  },
  {
   "cell_type": "code",
   "execution_count": 7,
   "metadata": {},
   "outputs": [
    {
     "data": {
      "text/plain": [
       "'Red'"
      ]
     },
     "execution_count": 7,
     "metadata": {},
     "output_type": "execute_result"
    }
   ],
   "source": [
    "colors_list[0]"
   ]
  },
  {
   "cell_type": "code",
   "execution_count": null,
   "metadata": {
    "colab": {},
    "colab_type": "code",
    "id": "6tXq5brYUVJs"
   },
   "outputs": [],
   "source": [
    "Concatenate two lists index-wise\n",
    "\n",
    "list1 = [\"M\", \"na\", \"i\", \"Su\"] list2 = [\"y\", \"me\", \"s\", \"mit\"] \n",
    "Expected output: ['My', 'name', 'is', 'Sumit']"
   ]
  },
  {
   "cell_type": "code",
   "execution_count": 8,
   "metadata": {
    "colab": {},
    "colab_type": "code",
    "id": "ZAWbRSBUUdCm"
   },
   "outputs": [
    {
     "name": "stdout",
     "output_type": "stream",
     "text": [
      "The original list 1 is : ['M', 'na', 'i', 'Su']\n",
      "The original list 2 is : ['y', 'me', 's', 'mit']\n",
      "The list after element concatenation is : ['My', 'name', 'is', 'Sumit']\n"
     ]
    }
   ],
   "source": [
    "list1 = [\"M\", \"na\", \"i\", \"Su\"] \n",
    "list2 = [\"y\", \"me\", \"s\", \"mit\"] \n",
    "# printing original lists \n",
    "print (\"The original list 1 is : \" + str(list1)) \n",
    "print (\"The original list 2 is : \" + str(list2)) \n",
    "  \n",
    "# using list comprehension + zip() \n",
    "# interlist element concatenation \n",
    "res = [i + j for i, j in zip(list1,list2)] \n",
    "  \n",
    "# printing result  \n",
    "print (\"The list after element concatenation is : \" +  str(res)) "
   ]
  },
  {
   "cell_type": "code",
   "execution_count": null,
   "metadata": {
    "colab": {},
    "colab_type": "code",
    "id": "dP9h7LAXUdPu"
   },
   "outputs": [],
   "source": [
    "Given a Python list you should be able to display Python list in the following \n",
    "order\n",
    "\n",
    "Lsit1 = [100, 200, 300, 400, 500] \n",
    "Expected output: [500, 400, 300, 200, 100]"
   ]
  },
  {
   "cell_type": "code",
   "execution_count": 10,
   "metadata": {
    "colab": {},
    "colab_type": "code",
    "id": "Rmd2HjPrUlnB"
   },
   "outputs": [
    {
     "name": "stdout",
     "output_type": "stream",
     "text": [
      "[500, 400, 300, 200, 100]\n"
     ]
    }
   ],
   "source": [
    "Lsit1 = [100, 200, 300, 400, 500]\n",
    "Lsit1.sort(reverse=True)\n",
    "print(Lsit1)"
   ]
  },
  {
   "cell_type": "code",
   "execution_count": null,
   "metadata": {
    "colab": {},
    "colab_type": "code",
    "id": "VtKkwS6BUlyw"
   },
   "outputs": [],
   "source": [
    "Concatenate two lists in the following order\n",
    "\n",
    "list1 = [\"Hello \", \"Welcome \"] \n",
    "list2 = [\"Dear\", \"Sir\"]\n",
    "Expected output: ['Hello Dear', 'Hello Sir', 'Welcome Dear', 'Welcome Sir']"
   ]
  },
  {
   "cell_type": "code",
   "execution_count": 11,
   "metadata": {
    "colab": {},
    "colab_type": "code",
    "id": "-EYsK3ZQUsHf"
   },
   "outputs": [
    {
     "name": "stdout",
     "output_type": "stream",
     "text": [
      "The original list 1 is : ['Hello ', 'Welcome ']\n",
      "The original list 2 is : ['Dear', 'Sir']\n",
      "The list after element concatenation is : ['Hello Dear', 'Welcome Sir']\n"
     ]
    }
   ],
   "source": [
    "list1 = [\"Hello \", \"Welcome \"] \n",
    "list2 = [\"Dear\", \"Sir\"]\n",
    "# printing original lists \n",
    "print (\"The original list 1 is : \" + str(list1)) \n",
    "print (\"The original list 2 is : \" + str(list2)) \n",
    "  \n",
    "# using list comprehension + zip() \n",
    "# interlist element concatenation \n",
    "res = [i + j for i, j in zip(list1,list2)] \n",
    "  \n",
    "# printing result  \n",
    "print (\"The list after element concatenation is : \" +  str(res)) \n"
   ]
  },
  {
   "cell_type": "code",
   "execution_count": null,
   "metadata": {
    "colab": {},
    "colab_type": "code",
    "id": "SZ5Hm13kUsPX"
   },
   "outputs": [],
   "source": [
    "Remove empty strings from the list of strings, Hint : Use filter() method to \n",
    "remove none from list1\n",
    "\n",
    "list1 = [\"AI\", \"\", \"Emma\", \"DL\", \"\", \"NLP\"] \n",
    "Expected output: [\"AI\", \"Emma\", \"DL\", \"NLP\"]"
   ]
  },
  {
   "cell_type": "code",
   "execution_count": 29,
   "metadata": {
    "colab": {},
    "colab_type": "code",
    "id": "L8m5cibTUxeZ"
   },
   "outputs": [
    {
     "name": "stdout",
     "output_type": "stream",
     "text": [
      "['AI', 'Emma', 'DL', 'NLP']\n"
     ]
    }
   ],
   "source": [
    "list1 = [\"AI\", \"\", \"Emma\", \"DL\", \"\", \"NLP\"]\n",
    "without_empty_strings = []\n",
    "for string in list1:\n",
    "    if (string != \"\"):\n",
    "        without_empty_strings.append(string)\n",
    "\n",
    "print(without_empty_strings)"
   ]
  },
  {
   "cell_type": "code",
   "execution_count": null,
   "metadata": {
    "colab": {},
    "colab_type": "code",
    "id": "FYZAlWMRUxm4"
   },
   "outputs": [],
   "source": [
    "Reverse the following tuple\n",
    "\n",
    "Tup = (10, 20, 30, 40, 50) \n",
    "Expected output: (50, 40, 30, 20, 10)"
   ]
  },
  {
   "cell_type": "code",
   "execution_count": 33,
   "metadata": {
    "colab": {},
    "colab_type": "code",
    "id": "yw0TNqlkU2L5"
   },
   "outputs": [
    {
     "name": "stdout",
     "output_type": "stream",
     "text": [
      "(50, 40, 30, 20, 10)\n"
     ]
    }
   ],
   "source": [
    "def Reverse(Tup): \n",
    "    new_tup = Tup[::-1] \n",
    "    return new_tup \n",
    "      \n",
    "# Driver Code \n",
    "Tup = (10, 20, 30, 40, 50) \n",
    "print(Reverse(Tup)) "
   ]
  },
  {
   "cell_type": "raw",
   "metadata": {
    "colab": {},
    "colab_type": "code",
    "id": "6eqJ2_ouU2Xh"
   },
   "source": [
    "Access Grey from the following tuple\n",
    "\n",
    "Tup = (\"Orange\", ['Black', 'Grey', 30], (5, 15, 25)) \n",
    "Expected output: Grey"
   ]
  },
  {
   "cell_type": "code",
   "execution_count": 36,
   "metadata": {
    "colab": {},
    "colab_type": "code",
    "id": "D62vq_-CU75y"
   },
   "outputs": [
    {
     "data": {
      "text/plain": [
       "'Grey'"
      ]
     },
     "execution_count": 36,
     "metadata": {},
     "output_type": "execute_result"
    }
   ],
   "source": [
    "Tup = (\"Orange\", ['Black', 'Grey', 30], (5, 15, 25)) \n",
    "Tup[1][1]"
   ]
  },
  {
   "cell_type": "code",
   "execution_count": null,
   "metadata": {
    "colab": {},
    "colab_type": "code",
    "id": "lyjTB1kKU7_j"
   },
   "outputs": [],
   "source": [
    "Swap the following two tuples\n",
    "\n",
    "tuple1 = (11, 22) tuple2 = (99, 88) \n",
    "Expected output: tuple1 = ((99, 88) , (11, 22))"
   ]
  },
  {
   "cell_type": "code",
   "execution_count": 38,
   "metadata": {
    "colab": {},
    "colab_type": "code",
    "id": "BHge_-s6VAdt"
   },
   "outputs": [
    {
     "name": "stdout",
     "output_type": "stream",
     "text": [
      "(99, 88)\n"
     ]
    }
   ],
   "source": [
    "tuple1 = (11, 22) \n",
    "tuple2 = (99, 88)\n",
    "tuple1,tuple2 = tuple2,tuple1 # swapping\n",
    "print(tuple1)"
   ]
  },
  {
   "cell_type": "code",
   "execution_count": null,
   "metadata": {
    "colab": {},
    "colab_type": "code",
    "id": "wZ19LGQFVAqe"
   },
   "outputs": [],
   "source": [
    "Copy element apple and mango from the following tuple into a new tuple\n",
    "\n",
    "tuple1 = ('cherry', 'banana', 'guava', 'apple', 'mango', 'lichi') \n",
    "Expected output: ('apple', 'mango')"
   ]
  },
  {
   "cell_type": "code",
   "execution_count": 48,
   "metadata": {
    "colab": {},
    "colab_type": "code",
    "id": "-lQs4Qn2VELP"
   },
   "outputs": [
    {
     "name": "stdout",
     "output_type": "stream",
     "text": [
      "('apple', 'mango')\n"
     ]
    }
   ],
   "source": [
    "from copy import deepcopy\n",
    "tuple1 = ('cherry', 'banana', 'guava', 'apple', 'mango', 'lichi') \n",
    "tup=tuple1[3:5]\n",
    "\n",
    "new_tup=deepcopy(tup)\n",
    "print(new_tup)"
   ]
  },
  {
   "cell_type": "code",
   "execution_count": null,
   "metadata": {
    "colab": {},
    "colab_type": "code",
    "id": "HOHUOXKwVEVa"
   },
   "outputs": [],
   "source": [
    "Add a list of elements to a given set\n",
    "\n",
    "Set1 = {\"NumPy\", \"Pandas\", \"OpenCv\"} \n",
    "Set2 = [\"Scikit\", \"Matplotlib\", \"Keras\"]\n",
    "Expected output: {'Pandas', 'Keras', 'Scikit', 'Matplotlib', 'NumPy', 'OpenCv'}"
   ]
  },
  {
   "cell_type": "code",
   "execution_count": 54,
   "metadata": {
    "colab": {},
    "colab_type": "code",
    "id": "CC6Ne5YWVJ_t"
   },
   "outputs": [
    {
     "data": {
      "text/plain": [
       "{'Keras', 'Matplotlib', 'NumPy', 'OpenCv', 'Pandas', 'Scikit'}"
      ]
     },
     "execution_count": 54,
     "metadata": {},
     "output_type": "execute_result"
    }
   ],
   "source": [
    "a=set([\"NumPy\" ,\"Pandas\", \"OpenCv\"])\n",
    "list = [\"Scikit\", \"Matplotlib\", \"Keras\"]\n",
    "a.update(list)\n",
    "a"
   ]
  },
  {
   "cell_type": "code",
   "execution_count": null,
   "metadata": {
    "colab": {},
    "colab_type": "code",
    "id": "Fa5pbahOVKMz"
   },
   "outputs": [],
   "source": [
    "Write a Program to create new set with all items from both sets by removing \n",
    "duplicates\n",
    "\n",
    "Set1 = {\"NumPy\", \"OpenCv\",\"Scikit-Learn\"} \n",
    "Set2 = {\"Scikit\", \"Matplotlib\", \"Keras\",\"Scikit-Learn\"}\n",
    "Expected output: {'Keras', 'Matplotlib', 'NumPy', 'OpenCv', 'Scikit', \n",
    "                   'Scikit-Learn'}"
   ]
  },
  {
   "cell_type": "code",
   "execution_count": 58,
   "metadata": {
    "colab": {},
    "colab_type": "code",
    "id": "pWCmDJ69WpYp",
    "scrolled": true
   },
   "outputs": [
    {
     "name": "stdout",
     "output_type": "stream",
     "text": [
      "{'NumPy', 'Keras', 'Scikit-Learn', 'Scikit', 'Matplotlib', 'OpenCv'}\n"
     ]
    }
   ],
   "source": [
    "first_list = [\"NumPy\", \"OpenCv\",\"Scikit-Learn\"]\n",
    "second_list = [\"Scikit\", \"Matplotlib\", \"Keras\",\"Scikit-Learn\"]\n",
    "print( set( first_list + second_list ) )\n"
   ]
  },
  {
   "cell_type": "code",
   "execution_count": null,
   "metadata": {
    "colab": {},
    "colab_type": "code",
    "id": "Vf2WLYMpWpeS"
   },
   "outputs": [],
   "source": [
    "Write a code to update first set with items that exist only in the first set and \n",
    "not in the second set.\n",
    "\n",
    "Set1 = {\"NumPy\", \"OpenCv\",\"Scikit-Learn\"} \n",
    "Set2 = {\"Scikit\", \"Matplotlib\", \"Keras\",\"Scikit-Learn\"}\n",
    "Expected output: {'NumPy', 'OpenCv'}"
   ]
  },
  {
   "cell_type": "code",
   "execution_count": 65,
   "metadata": {
    "colab": {},
    "colab_type": "code",
    "id": "CQYmljo7WuFj"
   },
   "outputs": [
    {
     "name": "stdout",
     "output_type": "stream",
     "text": [
      "{'NumPy', 'OpenCv'}\n"
     ]
    }
   ],
   "source": [
    "Set1 = {\"NumPy\", \"OpenCv\",\"Scikit-Learn\"} \n",
    "Set2 = {\"Scikit\", \"Matplotlib\", \"Keras\",\"Scikit-Learn\"}\n",
    "Set1.difference_update(Set2)\n",
    "print(Set1)"
   ]
  },
  {
   "cell_type": "code",
   "execution_count": null,
   "metadata": {
    "colab": {},
    "colab_type": "code",
    "id": "mXAaS5j2WuPJ"
   },
   "outputs": [],
   "source": [
    "Write a Program which prints the uncommon elements of Set1 and Set2 \n",
    "Set1 = {\"NumPy\", \"OpenCv\",\"Scikit-Learn\"} \n",
    "Set2 = {\"Scikit\", \"Matplotlib\", \"Keras\",\"Scikit-Learn\"}\n",
    "Expected output: {'Keras', 'Scikit', 'Matplotlib', 'NumPy', 'OpenCv'}"
   ]
  },
  {
   "cell_type": "code",
   "execution_count": 71,
   "metadata": {
    "colab": {},
    "colab_type": "code",
    "id": "V5Iz0Ps9W0hK"
   },
   "outputs": [
    {
     "data": {
      "text/plain": [
       "{'Keras', 'Matplotlib', 'NumPy', 'OpenCv', 'Scikit', 'Scikit-Learn'}"
      ]
     },
     "execution_count": 71,
     "metadata": {},
     "output_type": "execute_result"
    }
   ],
   "source": [
    "Set1 = {\"NumPy\", \"OpenCv\",\"Scikit-Learn\"} \n",
    "Set2 = {\"Scikit\", \"Matplotlib\", \"Keras\",\"Scikit-Learn\"}\n",
    "a=Set1.union(Set2) \n",
    "a"
   ]
  },
  {
   "cell_type": "code",
   "execution_count": null,
   "metadata": {
    "colab": {},
    "colab_type": "code",
    "id": "FFUxWWR-W0sA"
   },
   "outputs": [],
   "source": [
    "Write a Code to update the data of set1 by adding items from set2, \n",
    "ignoring all the common items of set1 and set2\n",
    "\n",
    "Set1 = {\"NumPy\", \"OpenCv\",\"Scikit-Learn\"} \n",
    "Set2 = {\"Scikit\", \"Matplotlib\", \"Keras\",\"Scikit-Learn\"}\n",
    "Expected output: {'Keras', 'Scikit', 'Matplotlib', 'NumPy', 'OpenCv'}"
   ]
  },
  {
   "cell_type": "code",
   "execution_count": 66,
   "metadata": {
    "colab": {},
    "colab_type": "code",
    "id": "ZTfkwKH5W6za"
   },
   "outputs": [
    {
     "name": "stdout",
     "output_type": "stream",
     "text": [
      "{'Scikit-Learn', 'Scikit', 'Matplotlib', 'NumPy', 'OpenCv', 'Keras'}\n"
     ]
    }
   ],
   "source": [
    "Set1 = {\"NumPy\", \"OpenCv\",\"Scikit-Learn\"} \n",
    "Set2 = {\"Scikit\", \"Matplotlib\", \"Keras\",\"Scikit-Learn\"}\n",
    "print(Set1.union(Set2))"
   ]
  },
  {
   "cell_type": "code",
   "execution_count": null,
   "metadata": {
    "colab": {},
    "colab_type": "code",
    "id": "kqbXYg2OW66F"
   },
   "outputs": [],
   "source": [
    "Write a Code to remove the data from set1 that are uncommon to both the sets.\n",
    "\n",
    "Set1 = {\"NumPy\", \"OpenCv\",\"Scikit-Learn\"} \n",
    "Set2 = {\"Scikit\", \"Matplotlib\", \"Keras\",\"Scikit-Learn\"}\n",
    "Expected output: {'Scikit-Learn'}"
   ]
  },
  {
   "cell_type": "code",
   "execution_count": 67,
   "metadata": {},
   "outputs": [
    {
     "name": "stdout",
     "output_type": "stream",
     "text": [
      "{'Scikit-Learn'}\n"
     ]
    }
   ],
   "source": [
    "Set1 = {\"NumPy\", \"OpenCv\",\"Scikit-Learn\"} \n",
    "Set2 = {\"Scikit\", \"Matplotlib\", \"Keras\",\"Scikit-Learn\"}\n",
    "x=Set1.intersection(Set2)\n",
    "print(x)"
   ]
  }
 ],
 "metadata": {
  "colab": {
   "name": "A7.ipynb",
   "provenance": []
  },
  "kernelspec": {
   "display_name": "Python 3",
   "language": "python",
   "name": "python3"
  },
  "language_info": {
   "codemirror_mode": {
    "name": "ipython",
    "version": 3
   },
   "file_extension": ".py",
   "mimetype": "text/x-python",
   "name": "python",
   "nbconvert_exporter": "python",
   "pygments_lexer": "ipython3",
   "version": "3.8.8"
  }
 },
 "nbformat": 4,
 "nbformat_minor": 1
}
