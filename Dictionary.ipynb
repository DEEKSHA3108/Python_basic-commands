{
 "cells": [
  {
   "cell_type": "code",
   "execution_count": null,
   "metadata": {
    "colab": {},
    "colab_type": "code",
    "id": "_su04nGqPvIK"
   },
   "outputs": [],
   "source": [
    "1. What does a dictionary value with a key 'foo' and a value 42 look like?"
   ]
  },
  {
   "cell_type": "code",
   "execution_count": 9,
   "metadata": {
    "colab": {},
    "colab_type": "code",
    "id": "sr_YVJ0bTN0X"
   },
   "outputs": [
    {
     "name": "stdout",
     "output_type": "stream",
     "text": [
      "{'foo': 42}\n"
     ]
    }
   ],
   "source": [
    "dict={\"foo\":42} # dict = {\"key\": \"value\"}\n",
    "print(dict)"
   ]
  },
  {
   "cell_type": "code",
   "execution_count": null,
   "metadata": {
    "colab": {},
    "colab_type": "code",
    "id": "xXV9_YdcTOOL"
   },
   "outputs": [],
   "source": [
    "2. Below are the two lists convert it into the dictionary\n",
    "keys = ['Ten', 'Twenty', 'Thirty'], values = [10, 20, 30]"
   ]
  },
  {
   "cell_type": "code",
   "execution_count": 1,
   "metadata": {
    "colab": {},
    "colab_type": "code",
    "id": "d-V38hJXTVa-"
   },
   "outputs": [
    {
     "name": "stdout",
     "output_type": "stream",
     "text": [
      "List of K :  ['Ten', 'Twenty', 'Thirty']\n",
      "list of V :  [10, 20, 30]\n",
      "Dictionary from lists :\n",
      "  {'Ten': 10, 'Twenty': 20, 'Thirty': 30}\n"
     ]
    }
   ],
   "source": [
    "listK = ['Ten', 'Twenty', 'Thirty']\n",
    "listV = [10,20,30]\n",
    "# Given lists\n",
    "print(\"List of K : \", listK)\n",
    "print(\"list of V : \", listV)\n",
    "# Empty dictionary\n",
    "res = {}\n",
    "# COnvert to dictionary\n",
    "for key in listK:\n",
    "   for value in listV:\n",
    "      res[key] = value\n",
    "      listV.remove(value)\n",
    "      break\n",
    "print(\"Dictionary from lists :\\n \",res)"
   ]
  },
  {
   "cell_type": "code",
   "execution_count": null,
   "metadata": {
    "colab": {},
    "colab_type": "code",
    "id": "1VNABBoSTVQ1"
   },
   "outputs": [],
   "source": [
    "3. Merge following two Python dictionaries into one\n",
    "dict1 = {'Ten': 10, 'Twenty': 20, 'Thirty': 30}\n",
    "dict2 = {'Thirty': 30, 'Forty': 40, 'Fifty': 50}"
   ]
  },
  {
   "cell_type": "code",
   "execution_count": 3,
   "metadata": {
    "colab": {},
    "colab_type": "code",
    "id": "dCF1QFNATnI4"
   },
   "outputs": [
    {
     "name": "stdout",
     "output_type": "stream",
     "text": [
      "None\n",
      "{'Thirty': 30, 'Forty': 40, 'Fifty': 50, 'Ten': 10, 'Twenty': 20}\n"
     ]
    }
   ],
   "source": [
    "# Python code to merge dict using update() method\n",
    "def Merge(dict1, dict2):\n",
    "    return(dict2.update(dict1))\n",
    "     \n",
    "# Driver code\n",
    "dict1 = {'Ten': 10, 'Twenty': 20, 'Thirty': 30}\n",
    "dict2 = {'Thirty': 30, 'Forty': 40, 'Fifty': 50}\n",
    " \n",
    "# This return None\n",
    "print(Merge(dict1, dict2))\n",
    " \n",
    "# changes made in dict2\n",
    "print(dict2)"
   ]
  },
  {
   "cell_type": "code",
   "execution_count": null,
   "metadata": {
    "colab": {},
    "colab_type": "code",
    "id": "00nFbJ8pTnS5"
   },
   "outputs": [],
   "source": [
    "4. Check if a value 200 exists in a dictionary\n",
    "sampleDict = {'a': 100, 'b': 200, 'c': 300}"
   ]
  },
  {
   "cell_type": "code",
   "execution_count": 4,
   "metadata": {
    "colab": {},
    "colab_type": "code",
    "id": "JcQ6duk-Tr__"
   },
   "outputs": [
    {
     "name": "stdout",
     "output_type": "stream",
     "text": [
      "Key is present in the dictionary\n"
     ]
    }
   ],
   "source": [
    "d = {'a': 100, 'b': 200, 'c': 300}\n",
    "def is_key_present(x):\n",
    "    x in d\n",
    "print('Key is present in the dictionary')\n",
    "is_key_present(200)"
   ]
  },
  {
   "cell_type": "code",
   "execution_count": null,
   "metadata": {
    "colab": {},
    "colab_type": "code",
    "id": "1jQ9db7FTsKg"
   },
   "outputs": [],
   "source": [
    "5. Rename key c8 to c7 in the following dictionary\n",
    "r = {'c1': 'violet',\n",
    "'c2': 'indigo',\n",
    "'c3': 'blue',\n",
    "'c4': 'green',\n",
    "'c5': 'yellow',\n",
    "'c6': 'orange',\n",
    "'c8': 'red'}"
   ]
  },
  {
   "cell_type": "code",
   "execution_count": 6,
   "metadata": {
    "colab": {},
    "colab_type": "code",
    "id": "H5U9ahUrTuBL"
   },
   "outputs": [
    {
     "name": "stdout",
     "output_type": "stream",
     "text": [
      "{'c2': 'indigo', 'c3': 'blue', 'c4': 'green', 'c5': 'yellow', 'c6': 'orange', 'c8': 'c7'}\n"
     ]
    }
   ],
   "source": [
    "thisdict = {\n",
    "'c2': 'indigo',\n",
    "'c3': 'blue',\n",
    "'c4': 'green',\n",
    "'c5': 'yellow',\n",
    "'c6': 'orange',\n",
    "'c8': 'red'\n",
    "  \n",
    "}\n",
    "thisdict[\"c8\"] = \"c7\"\n",
    "print(thisdict)"
   ]
  },
  {
   "cell_type": "code",
   "execution_count": null,
   "metadata": {
    "colab": {},
    "colab_type": "code",
    "id": "X_FbziFmTuLX"
   },
   "outputs": [],
   "source": [
    "6. Get the key corresponding to the minimum value from the following dictionary\n",
    "Data = {\n",
    "'Physics': 82,\n",
    "'Math': 65,\n",
    "'history': 75 }"
   ]
  },
  {
   "cell_type": "code",
   "execution_count": 7,
   "metadata": {
    "colab": {},
    "colab_type": "code",
    "id": "rIxm5IXmTv-Z"
   },
   "outputs": [
    {
     "name": "stdout",
     "output_type": "stream",
     "text": [
      "The original dictionary is : {'Physics': 82, 'Math': 65, 'history': 75}\n",
      "Keys with minimum values are : ['Math']\n"
     ]
    }
   ],
   "source": [
    "test_dict = {'Physics': 82,\n",
    "'Math': 65,\n",
    "'history': 75} \n",
    "  \n",
    "# printing original dictionary \n",
    "print(\"The original dictionary is : \" + str(test_dict)) \n",
    "  \n",
    "# Using min() + list comprehension + values() \n",
    "# Finding min value keys in dictionary \n",
    "temp = min(test_dict.values()) \n",
    "res = [key for key in test_dict if test_dict[key] == temp] \n",
    "  \n",
    "# printing result  \n",
    "print(\"Keys with minimum values are : \" + str(res)) "
   ]
  },
  {
   "cell_type": "code",
   "execution_count": null,
   "metadata": {
    "colab": {},
    "colab_type": "code",
    "id": "a1sH_B46TwI4"
   },
   "outputs": [],
   "source": [
    "7. Create a Nested Dictionary of your choice and create some outputs from it."
   ]
  },
  {
   "cell_type": "code",
   "execution_count": 8,
   "metadata": {
    "colab": {},
    "colab_type": "code",
    "id": "9hMRmk1iTyJQ"
   },
   "outputs": [
    {
     "name": "stdout",
     "output_type": "stream",
     "text": [
      "[[1, 2, 3], [4, 5, 6], [7, 8, 9]]\n",
      "[[10, 20, 30], [400, 500, 600], [7000, 8000, 9000]]\n"
     ]
    }
   ],
   "source": [
    "A = [[1, 2, 3], [4, 5, 6], [7, 8, 9]]\n",
    "f = 1\n",
    "print(A)\n",
    "for i in range(0, 3):\n",
    "    f *= 10\n",
    "    for j in range(0, 3):\n",
    "       A[i][j] *= f\n",
    "print(A)"
   ]
  },
  {
   "cell_type": "code",
   "execution_count": null,
   "metadata": {
    "colab": {},
    "colab_type": "code",
    "id": "ry37Vm9mTymZ"
   },
   "outputs": [],
   "source": [
    "8. Submit the Assignment 8 project as soon as you can make."
   ]
  }
 ],
 "metadata": {
  "colab": {
   "name": "A8.ipynb",
   "provenance": []
  },
  "kernelspec": {
   "display_name": "Python 3",
   "language": "python",
   "name": "python3"
  },
  "language_info": {
   "codemirror_mode": {
    "name": "ipython",
    "version": 3
   },
   "file_extension": ".py",
   "mimetype": "text/x-python",
   "name": "python",
   "nbconvert_exporter": "python",
   "pygments_lexer": "ipython3",
   "version": "3.8.8"
  }
 },
 "nbformat": 4,
 "nbformat_minor": 1
}
