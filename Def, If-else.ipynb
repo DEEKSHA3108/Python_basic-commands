{
 "cells": [
  {
   "cell_type": "code",
   "execution_count": null,
   "metadata": {
    "colab": {},
    "colab_type": "code",
    "id": "Wqfe-xvEZvng"
   },
   "outputs": [],
   "source": [
    "Write a python code to print 100% using string concatenation."
   ]
  },
  {
   "cell_type": "code",
   "execution_count": 3,
   "metadata": {
    "colab": {},
    "colab_type": "code",
    "id": "TNk71eLBZ40v"
   },
   "outputs": [
    {
     "name": "stdout",
     "output_type": "stream",
     "text": [
      "vishnudinesh\n"
     ]
    }
   ],
   "source": [
    "# Python program to demonstrate \n",
    "# strings \n",
    "\n",
    "# Assign Welcome string to the variable var1 \n",
    "var1 = \"vishnu\"\n",
    "  \n",
    "# Assign statistics string to the variable var2 \n",
    "var2 = \"dinesh\"\n",
    "  \n",
    "# print the result \n",
    "print(var1 + var2) \n"
   ]
  },
  {
   "cell_type": "code",
   "execution_count": null,
   "metadata": {
    "colab": {},
    "colab_type": "code",
    "id": "FlNMPkzFZ4-H"
   },
   "outputs": [],
   "source": [
    "Write a python program to take 3 input from the user and calculate the area of the triangle."
   ]
  },
  {
   "cell_type": "code",
   "execution_count": 4,
   "metadata": {
    "colab": {},
    "colab_type": "code",
    "id": "OTT7PZK4Z8He"
   },
   "outputs": [
    {
     "name": "stdout",
     "output_type": "stream",
     "text": [
      "Please Enter the First side of a Triangle: 2\n",
      "Please Enter the Second side of a Triangle: 3\n",
      "Please Enter the Third side of a Triangle: 4\n",
      "\n",
      " The Perimeter of Traiangle = 9.00\n",
      " The Semi Perimeter of Traiangle = 4.50\n",
      " The Area of a Triangle is 2.90\n"
     ]
    }
   ],
   "source": [
    "# Python Program to find Area of a Triangle\n",
    "\n",
    "a = float(input('Please Enter the First side of a Triangle: '))\n",
    "b = float(input('Please Enter the Second side of a Triangle: '))\n",
    "c = float(input('Please Enter the Third side of a Triangle: '))\n",
    "\n",
    "# calculate the Perimeter\n",
    "Perimeter = a + b + c\n",
    "\n",
    "# calculate the semi-perimeter\n",
    "s = (a + b + c) / 2\n",
    "\n",
    "# calculate the area\n",
    "Area = (s*(s-a)*(s-b)*(s-c)) ** 0.5\n",
    "\n",
    "print(\"\\n The Perimeter of Traiangle = %.2f\" %Perimeter);\n",
    "print(\" The Semi Perimeter of Traiangle = %.2f\" %s);\n",
    "print(\" The Area of a Triangle is %0.2f\" %Area)"
   ]
  },
  {
   "cell_type": "code",
   "execution_count": null,
   "metadata": {
    "colab": {},
    "colab_type": "code",
    "id": "M6otG9pNZ8RQ"
   },
   "outputs": [],
   "source": [
    "Take 5 inputs from the user and find the greatest and the smallest among them."
   ]
  },
  {
   "cell_type": "code",
   "execution_count": 5,
   "metadata": {
    "colab": {},
    "colab_type": "code",
    "id": "HLuApNeDZ-lT"
   },
   "outputs": [
    {
     "name": "stdout",
     "output_type": "stream",
     "text": [
      "Enter First number : 10\n",
      "Enter Second number : 30\n",
      "Enter Third number : 40\n",
      "The largest of the 3 numbers is :  40\n",
      "The smallest of the 3 numbers is :  10\n"
     ]
    }
   ],
   "source": [
    "number1 = int(input('Enter First number : '))\n",
    "number2 = int(input('Enter Second number : '))\n",
    "number3 = int(input('Enter Third number : '))\n",
    "def largest(num1, num2, num3):\n",
    "    if (num1 > num2) and (num1 > num3):\n",
    "        largest_num = num1\n",
    "    elif (num2 > num1) and (num2 > num3):\n",
    "        largest_num = num2\n",
    "    else:\n",
    "        largest_num = num3\n",
    "    print(\"The largest of the 3 numbers is : \", largest_num)\n",
    "def smallest(num1, num2, num3):\n",
    "    if (num1 < num2) and (num1 < num3):\n",
    "        smallest_num = num1\n",
    "    elif (num2 < num1) and (num2 < num3):\n",
    "        smallest_num = num2\n",
    "    else:\n",
    "        smallest_num = num3\n",
    "    print(\"The smallest of the 3 numbers is : \", smallest_num)\n",
    "largest(number1, number2, number3)\n",
    "smallest(number1, number2, number3)"
   ]
  },
  {
   "cell_type": "code",
   "execution_count": null,
   "metadata": {
    "colab": {},
    "colab_type": "code",
    "id": "YvVsl0tcZ-n5"
   },
   "outputs": [],
   "source": [
    "Take 3 input of the age from the user of his son, daughter and wife. Print the difference between the ages of the son and the daughter, also if who is the youngest among all."
   ]
  },
  {
   "cell_type": "code",
   "execution_count": 12,
   "metadata": {
    "colab": {},
    "colab_type": "code",
    "id": "0OLAa3iNaCdG"
   },
   "outputs": [
    {
     "name": "stdout",
     "output_type": "stream",
     "text": [
      "enter the age of the son :20\n",
      "enter the age of the daughter :10\n",
      "enter the age of the wife :45\n",
      "adge_diff : 10\n",
      "The smallest age of the 3 is :  10\n"
     ]
    }
   ],
   "source": [
    "son=int(input(\"enter the age of the son :\"))\n",
    "daughter=int(input(\"enter the age of the daughter :\"))\n",
    "wife=int(input(\"enter the age of the wife :\"))\n",
    "print(\"adge_diff :\",son-daughter)\n",
    "if (son < daughter) and (son < wife):\n",
    "    smallest_age = son\n",
    "elif (daughter < son) and (daughter < wife):\n",
    "    smallest_age = daughter\n",
    "else:\n",
    "    smallest_age = wife\n",
    "print(\"The smallest age of the 3 is : \", smallest_age)   "
   ]
  },
  {
   "cell_type": "code",
   "execution_count": null,
   "metadata": {
    "colab": {},
    "colab_type": "code",
    "id": "ToKloxOVaC3V"
   },
   "outputs": [],
   "source": [
    "Write code that prints Hello if ‘value’ is stored in ‘number’, prints Howdy if 0 is stored in number, and prints Greetings! if anything else is stored in spam."
   ]
  },
  {
   "cell_type": "code",
   "execution_count": 13,
   "metadata": {
    "colab": {},
    "colab_type": "code",
    "id": "jfSxZhjyaKyF"
   },
   "outputs": [
    {
     "name": "stdout",
     "output_type": "stream",
     "text": [
      "Hello\n",
      "Greetings\n"
     ]
    }
   ],
   "source": [
    "spam = 1\n",
    "if spam == 1:\n",
    "    print('Hello')\n",
    "    if spam > 1:\n",
    "        print('Howdy')\n",
    "    else:\n",
    "        print('Greetings')"
   ]
  },
  {
   "cell_type": "code",
   "execution_count": null,
   "metadata": {
    "colab": {},
    "colab_type": "code",
    "id": "ElXHnp65aK-0"
   },
   "outputs": [],
   "source": [
    "A school has following rules for grading system:\n",
    "a. Below 25 - F\n",
    "b. 25 to 45 - E\n",
    "c. 45 to 50 - D\n",
    "d. 50 to 60 - C\n",
    "e. 60 to 80 - B\n",
    "f. Above 80 - A\n",
    "Ask user to enter marks and print the corresponding grade."
   ]
  },
  {
   "cell_type": "code",
   "execution_count": 17,
   "metadata": {
    "colab": {},
    "colab_type": "code",
    "id": "EahZ7IdxaM9Y"
   },
   "outputs": [
    {
     "name": "stdout",
     "output_type": "stream",
     "text": [
      "enter the marks :95\n",
      "A\n"
     ]
    }
   ],
   "source": [
    "marks = int(input(\"enter the marks :\"))\n",
    "if marks < 25:\n",
    "    print(\"F\")\n",
    "elif marks >= 25 and marks < 45:\n",
    "    print(\"E\")\n",
    "elif marks >= 45 and marks < 50:\n",
    "    print(\"D\")\n",
    "elif marks >= 50 and marks < 60:\n",
    "    print(\"C\")\n",
    "elif marks >= 60 and marks < 80:\n",
    "    print(\"B\")\n",
    "else:\n",
    "    print(\"A\")"
   ]
  },
  {
   "cell_type": "code",
   "execution_count": null,
   "metadata": {
    "colab": {},
    "colab_type": "code",
    "id": "0N_a9_JmaNEg"
   },
   "outputs": [],
   "source": [
    "A student will not be allowed to sit in exam if his/her attendance is less than 75%. Take following input from user:\n",
    "Number of classes held, Number of classes attended and print percentage of class attended also check whether the  student is allowed to sit in exam or not."
   ]
  },
  {
   "cell_type": "code",
   "execution_count": 62,
   "metadata": {
    "colab": {},
    "colab_type": "code",
    "id": "QEexzmuVacMs"
   },
   "outputs": [
    {
     "name": "stdout",
     "output_type": "stream",
     "text": [
      "enter the total class attended :80\n",
      "80.0\n",
      "eligeble for exam\n"
     ]
    }
   ],
   "source": [
    "total = 100\n",
    "attended = int(input(\"enter the total class attended :\"))\n",
    "percentage = ((attended/total)*100)\n",
    "print(percentage)\n",
    "if percentage <= 75:\n",
    "    print(\"not eligible for exam\")\n",
    "else:\n",
    "    print(\"eligeble for exam\")"
   ]
  },
  {
   "cell_type": "code",
   "execution_count": null,
   "metadata": {
    "colab": {},
    "colab_type": "code",
    "id": "wOIbIyiAacYF"
   },
   "outputs": [],
   "source": [
    "Ask user to enter age, sex ( M or F ), marital status ( Y or N ) and then using following rules\n",
    "print their place of service.\n",
    "if employee is female, then she will work only in urban areas.\n",
    "if employee is a male and age is in between 20 to 40 then he may work in anywhere\n",
    "if employee is male and age is in between 40 t0 60 then he will work in urban areas only.\n",
    "And any other input of age should print \"ERROR\"."
   ]
  },
  {
   "cell_type": "code",
   "execution_count": 79,
   "metadata": {
    "colab": {},
    "colab_type": "code",
    "id": "LEsRx-dJag5y"
   },
   "outputs": [
    {
     "name": "stdout",
     "output_type": "stream",
     "text": [
      "enter the age :30\n",
      "enter the gender :male\n",
      "yes or no :yes\n",
      "can work anywhere\n"
     ]
    }
   ],
   "source": [
    "age = int(input(\"enter the age :\"))\n",
    "sex = input(\"enter the gender :\")\n",
    "martiatl_status = input(\"yes or no :\")\n",
    "if ('female' in sex ):\n",
    "    print(\"only work in urban areas\")\n",
    "elif ('male' in sex and (age >=20 and age < 40)):\n",
    "    print(\"can work anywhere\")\n",
    "elif ('male' in sex and (age >=40 and age <= 60)):\n",
    "    print(\"only work in urban areas\")\n",
    "else:\n",
    "    print(\"invalid\")    "
   ]
  },
  {
   "cell_type": "raw",
   "metadata": {
    "colab": {},
    "colab_type": "code",
    "id": "Z2twdy3CahFY"
   },
   "source": [
    "Check whether the given number is a positive or a negative number."
   ]
  },
  {
   "cell_type": "code",
   "execution_count": 72,
   "metadata": {
    "colab": {},
    "colab_type": "code",
    "id": "IKIPAMcvanrD"
   },
   "outputs": [
    {
     "name": "stdout",
     "output_type": "stream",
     "text": [
      "Positive\n",
      "Equal to zero\n",
      "Negative\n"
     ]
    }
   ],
   "source": [
    "def check(n): \n",
    "      \n",
    "    # if the number is positive \n",
    "    if n > 0: \n",
    "        print(\"Positive\") \n",
    "          \n",
    "    # if the number is negative \n",
    "    elif n < 0: \n",
    "        print(\"Negative\") \n",
    "          \n",
    "    # if the number is equal to \n",
    "    # zero \n",
    "    else: \n",
    "        print(\"Equal to zero\") \n",
    "          \n",
    "# Driver Code \n",
    "check(5) \n",
    "check(0) \n",
    "check(-5)"
   ]
  },
  {
   "cell_type": "code",
   "execution_count": null,
   "metadata": {
    "colab": {},
    "colab_type": "code",
    "id": "4TPrrsT3an2M"
   },
   "outputs": [],
   "source": [
    "Check the divisibility of one integer by another."
   ]
  },
  {
   "cell_type": "code",
   "execution_count": 19,
   "metadata": {
    "colab": {},
    "colab_type": "code",
    "id": "7pAGZEtyap76"
   },
   "outputs": [
    {
     "name": "stdout",
     "output_type": "stream",
     "text": [
      "True\n",
      "False\n"
     ]
    }
   ],
   "source": [
    "def multiple(m, n):\n",
    "\treturn True if m % n == 0 else False\n",
    "\n",
    "print(multiple(20, 5))\n",
    "print(multiple(7, 2))"
   ]
  },
  {
   "cell_type": "code",
   "execution_count": null,
   "metadata": {
    "colab": {},
    "colab_type": "code",
    "id": "Y-3BAWwtaqF5"
   },
   "outputs": [],
   "source": [
    "Convert Celsius to Fahrenheit or vice – versa."
   ]
  },
  {
   "cell_type": "code",
   "execution_count": 21,
   "metadata": {
    "colab": {},
    "colab_type": "code",
    "id": "iFkqWsjkatCc"
   },
   "outputs": [
    {
     "name": "stdout",
     "output_type": "stream",
     "text": [
      "Enter temperature in fahrenheit: 10\n",
      "Enter temperature in celsius: 10\n",
      "10.00 Fahrenheit is: -12.22 Celsius\n",
      "-12.22 Celsius is: 10.00 Fahrenheit\n"
     ]
    }
   ],
   "source": [
    "fahrenheit = float(input(\"Enter temperature in fahrenheit: \"))\n",
    "celsius = float(input(\"Enter temperature in celsius: \"))\n",
    "celsius = (fahrenheit - 32) * 5/9\n",
    "fahrenheit = (celsius * 9/5) + 32\n",
    "print('%.2f Fahrenheit is: %0.2f Celsius' %(fahrenheit, celsius))\n",
    "print('%.2f Celsius is: %0.2f Fahrenheit' %(celsius, fahrenheit))"
   ]
  },
  {
   "cell_type": "code",
   "execution_count": null,
   "metadata": {
    "colab": {},
    "colab_type": "code",
    "id": "u5KK2DvmatMx"
   },
   "outputs": [],
   "source": [
    "Give 3 options to user of mass, density and volume. Then Calculate the mass, density and volume as entered by the user."
   ]
  },
  {
   "cell_type": "code",
   "execution_count": 54,
   "metadata": {
    "colab": {},
    "colab_type": "code",
    "id": "iRFi1_p9a3Xv"
   },
   "outputs": [
    {
     "name": "stdout",
     "output_type": "stream",
     "text": [
      "enter :4\n",
      "enter :6\n",
      "mass 24\n"
     ]
    }
   ],
   "source": [
    "volume=int(input(\"enter :\"))\n",
    "density=int(input(\"enter :\"))\n",
    "\n",
    "print(\"mass\",volume*density)"
   ]
  },
  {
   "cell_type": "code",
   "execution_count": 55,
   "metadata": {},
   "outputs": [
    {
     "name": "stdout",
     "output_type": "stream",
     "text": [
      "enter :4\n",
      "enter :5\n",
      "volume 0.8\n"
     ]
    }
   ],
   "source": [
    "mass=int(input(\"enter :\"))\n",
    "density=int(input(\"enter :\"))\n",
    "\n",
    "print(\"volume\",mass/density)"
   ]
  },
  {
   "cell_type": "code",
   "execution_count": 56,
   "metadata": {},
   "outputs": [
    {
     "name": "stdout",
     "output_type": "stream",
     "text": [
      "enter :4\n",
      "enter :5\n",
      "density 20\n"
     ]
    }
   ],
   "source": [
    "volume=int(input(\"enter :\"))\n",
    "mass=int(input(\"enter :\"))\n",
    "\n",
    "print(\"density\",volume*mass)"
   ]
  },
  {
   "cell_type": "code",
   "execution_count": null,
   "metadata": {
    "colab": {},
    "colab_type": "code",
    "id": "CltrPfCla3kt"
   },
   "outputs": [],
   "source": [
    "Check whether a triangle is formed or not with the given sides by the user."
   ]
  },
  {
   "cell_type": "code",
   "execution_count": 22,
   "metadata": {
    "colab": {},
    "colab_type": "code",
    "id": "GmZNlxUHa7Ar"
   },
   "outputs": [
    {
     "name": "stdout",
     "output_type": "stream",
     "text": [
      "formed\n"
     ]
    }
   ],
   "source": [
    "def checkValidity(a, b, c):  \n",
    "      \n",
    "    # check condition  \n",
    "    if (a + b <= c) or (a + c <= b) or (b + c <= a) : \n",
    "        return False\n",
    "    else: \n",
    "        return True        \n",
    "  \n",
    "# driver code  \n",
    "a = 7\n",
    "b = 10\n",
    "c = 5\n",
    "if checkValidity(a, b, c): \n",
    "    print(\"formed\")  \n",
    "else: \n",
    "    print(\"not formed\") "
   ]
  },
  {
   "cell_type": "code",
   "execution_count": null,
   "metadata": {
    "colab": {},
    "colab_type": "code",
    "id": "Ys-8aNtUa7Jc"
   },
   "outputs": [],
   "source": [
    "Calculate the sum of the digits of the random three – digit numbers."
   ]
  },
  {
   "cell_type": "code",
   "execution_count": 23,
   "metadata": {
    "colab": {},
    "colab_type": "code",
    "id": "fQTvGbDca-LP"
   },
   "outputs": [
    {
     "name": "stdout",
     "output_type": "stream",
     "text": [
      "440\n",
      "8\n"
     ]
    }
   ],
   "source": [
    "from random import random\n",
    " \n",
    "n = random() * 900 + 100\n",
    "n = int(n)\n",
    "print(n)\n",
    " \n",
    "a = n // 100\n",
    "b = (n // 10) % 10\n",
    "c = n % 10\n",
    " \n",
    "print(a+b+c)"
   ]
  },
  {
   "cell_type": "code",
   "execution_count": null,
   "metadata": {
    "colab": {},
    "colab_type": "code",
    "id": "48wnk82ua-WL"
   },
   "outputs": [],
   "source": [
    "Calculate the circumference of a circle if user enters the radius value."
   ]
  },
  {
   "cell_type": "code",
   "execution_count": 24,
   "metadata": {
    "colab": {},
    "colab_type": "code",
    "id": "ZoOf_0VebBog"
   },
   "outputs": [
    {
     "name": "stdout",
     "output_type": "stream",
     "text": [
      "Enter Radius of Circle: \n",
      "5\n",
      "\n",
      "Circumference =  78.5\n"
     ]
    }
   ],
   "source": [
    "print(\"Enter Radius of Circle: \")\n",
    "r = float(input())\n",
    "c = 3.14*r*r\n",
    "print(\"\\nCircumference = \", c)"
   ]
  },
  {
   "cell_type": "code",
   "execution_count": null,
   "metadata": {
    "colab": {},
    "colab_type": "code",
    "id": "WQ3aGOdYbBxI"
   },
   "outputs": [],
   "source": [
    "Check whether a number is a prime number or not."
   ]
  },
  {
   "cell_type": "code",
   "execution_count": 37,
   "metadata": {
    "colab": {},
    "colab_type": "code",
    "id": "HgXdqQDBbEUp"
   },
   "outputs": [
    {
     "name": "stdout",
     "output_type": "stream",
     "text": [
      "11 is a prime number\n",
      "11 is a prime number\n",
      "11 is a prime number\n",
      "11 is a prime number\n",
      "11 is a prime number\n",
      "11 is a prime number\n",
      "11 is a prime number\n",
      "11 is a prime number\n",
      "11 is a prime number\n"
     ]
    }
   ],
   "source": [
    "num = 11\n",
    " \n",
    "# If given number is greater than 1\n",
    "if num > 1:\n",
    " \n",
    "    # Iterate from 2 to n / 2\n",
    "    for i in range(2, num):\n",
    " \n",
    "        # If num is divisible by any number between\n",
    "        # 2 and n / 2, it is not prime\n",
    "        if (num % i) == 0:\n",
    "            print(num, \"is not a prime number\")\n",
    "            break\n",
    "        else:\n",
    "            print(num, \"is a prime number\")\n",
    " \n",
    "else:\n",
    "    print(num, \"is not a prime number\")"
   ]
  },
  {
   "cell_type": "raw",
   "metadata": {
    "colab": {},
    "colab_type": "code",
    "id": "vrAIuilMbEgh"
   },
   "source": [
    "Write a program to check whether a triangle is Equilateral, Isosceles or Scalene."
   ]
  },
  {
   "cell_type": "code",
   "execution_count": 38,
   "metadata": {
    "colab": {},
    "colab_type": "code",
    "id": "rG2YDitsbHbq"
   },
   "outputs": [
    {
     "name": "stdout",
     "output_type": "stream",
     "text": [
      "Scalene Triangle\n"
     ]
    }
   ],
   "source": [
    "def checkTriangle(x, y, z): \n",
    "  \n",
    "    # _Check for equilateral triangle \n",
    "    if x == y == z: \n",
    "        print(\"Equilateral Triangle\") \n",
    "  \n",
    "    # Check for isoceles triangle \n",
    "    elif x == y or y == z or z == x: \n",
    "        print(\"Isoceles Triangle\") \n",
    "  \n",
    "    # Otherwise scalene triangle \n",
    "    else: \n",
    "        print(\"Scalene Triangle\") \n",
    "  \n",
    "  \n",
    "# Driver Code \n",
    "  \n",
    "# Given sides of triangle \n",
    "x = 8\n",
    "y = 7\n",
    "z = 9\n",
    "  \n",
    "# Function Call \n",
    "checkTriangle(x, y, z) "
   ]
  },
  {
   "cell_type": "code",
   "execution_count": null,
   "metadata": {
    "colab": {},
    "colab_type": "code",
    "id": "X5VqES82bHnA"
   },
   "outputs": [],
   "source": [
    "Write a program to check whether a character is an alphabet, digit or special character."
   ]
  },
  {
   "cell_type": "code",
   "execution_count": 39,
   "metadata": {
    "colab": {},
    "colab_type": "code",
    "id": "Ru5hmnhlbKTd"
   },
   "outputs": [
    {
     "name": "stdout",
     "output_type": "stream",
     "text": [
      "Please Enter Your Own Character : 12\n",
      "The Given Character  12 is a Digit\n"
     ]
    }
   ],
   "source": [
    "ch = input(\"Please Enter Your Own Character : \")\n",
    "\n",
    "if((ch >= 'a' and ch <= 'z') or (ch >= 'A' and ch <= 'Z')): \n",
    "    print(\"The Given Character \", ch, \"is an Alphabet\") \n",
    "elif(ch >= '0' and ch <= '9'):\n",
    "    print(\"The Given Character \", ch, \"is a Digit\")\n",
    "else:\n",
    "    print(\"The Given Character \", ch, \"is a Special Character\")"
   ]
  },
  {
   "cell_type": "code",
   "execution_count": null,
   "metadata": {
    "colab": {},
    "colab_type": "code",
    "id": "Tn4zypdxbKeh"
   },
   "outputs": [],
   "source": [
    "Print the following with the help of string concatenation: 1008090"
   ]
  },
  {
   "cell_type": "code",
   "execution_count": 40,
   "metadata": {
    "colab": {},
    "colab_type": "code",
    "id": "8jwj5pidbNb5"
   },
   "outputs": [
    {
     "name": "stdout",
     "output_type": "stream",
     "text": [
      "1008090\n"
     ]
    }
   ],
   "source": [
    "var1 = \"1008090\"\n",
    "# print the result \n",
    "print(var1) "
   ]
  },
  {
   "cell_type": "raw",
   "metadata": {
    "colab": {},
    "colab_type": "code",
    "id": "Y4bkftp6bNq5"
   },
   "source": [
    "Find the values of the following:\n",
    "• X = 5 , X += 12 , print(x)\n",
    "• If x = 12 , y = 10 then x += y + 22. Print(x,y)"
   ]
  },
  {
   "cell_type": "code",
   "execution_count": 81,
   "metadata": {},
   "outputs": [
    {
     "name": "stdout",
     "output_type": "stream",
     "text": [
      "17\n"
     ]
    }
   ],
   "source": [
    "x = 5\n",
    "x += 12\n",
    "print(x)\n"
   ]
  },
  {
   "cell_type": "code",
   "execution_count": 86,
   "metadata": {},
   "outputs": [
    {
     "name": "stdout",
     "output_type": "stream",
     "text": [
      "44 10\n"
     ]
    }
   ],
   "source": [
    "x=12\n",
    "if x == 12:\n",
    "    y = 10 \n",
    "    x += y + 22\n",
    "    print(x,y)"
   ]
  },
  {
   "cell_type": "code",
   "execution_count": null,
   "metadata": {},
   "outputs": [],
   "source": []
  }
 ],
 "metadata": {
  "colab": {
   "name": "A3.ipynb",
   "provenance": []
  },
  "kernelspec": {
   "display_name": "Python 3",
   "language": "python",
   "name": "python3"
  },
  "language_info": {
   "codemirror_mode": {
    "name": "ipython",
    "version": 3
   },
   "file_extension": ".py",
   "mimetype": "text/x-python",
   "name": "python",
   "nbconvert_exporter": "python",
   "pygments_lexer": "ipython3",
   "version": "3.8.8"
  }
 },
 "nbformat": 4,
 "nbformat_minor": 1
}
